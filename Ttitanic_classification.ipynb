{
 "cells": [
  {
   "metadata": {},
   "cell_type": "markdown",
   "source": [
    "🏷️ PROJECT TITLE\n",
    "Titanic Survival Classification – A Complete Data Science Workflow\n",
    "\n",
    "📘 1. PROJECT DESCRIPTION\n",
    "This project demonstrates a full end-to-end data science process using a cleaned version of the Titanic dataset. It includes:\n",
    "\n",
    "Data cleaning and preprocessing\n",
    "\n",
    "Exploratory Data Analysis (EDA)\n",
    "\n",
    "Encoding categorical variables\n",
    "\n",
    "Model training and evaluation (Logistic Regression & Random Forest)\n",
    "\n",
    "Performance comparison using visualizations\n",
    "\n",
    "The goal is to predict passenger survival based on features like age, gender, ticket class, etc.\n",
    "\n",
    "# 🚢 Titanic Classification - Profesional"
   ],
   "id": "944f16264737e4a9"
  },
  {
   "metadata": {},
   "cell_type": "markdown",
   "source": "🧼 2. DATA CLEANING",
   "id": "9e38f88dd5ad2387"
  },
  {
   "metadata": {
    "ExecuteTime": {
     "end_time": "2025-06-17T17:34:19.591003Z",
     "start_time": "2025-06-17T17:34:19.268010Z"
    }
   },
   "cell_type": "code",
   "source": [
    "\n",
    "# Load data\n",
    "import pandas as pd\n",
    "df = pd.read_csv(\"train_and_test2.csv\")\n",
    "\n",
    "# Rename the incorrectly named target column\n",
    "df = df.rename(columns={\"2urvived\": \"Survived\"})\n",
    "\n",
    "# Drop irrelevant columns\n",
    "df = df.drop(columns=[col for col in df.columns if col.startswith(\"zero\")])\n",
    "\n",
    "# Fill missing values in 'Embarked' with the mode\n",
    "df[\"Embarked\"].fillna(df[\"Embarked\"].mode()[0], inplace=True)\n",
    "\n",
    "# Check for nulls\n",
    "print(df.isnull().sum())\n",
    "\n"
   ],
   "id": "78b4a39e72068d75",
   "outputs": [
    {
     "name": "stdout",
     "output_type": "stream",
     "text": [
      "Passengerid    0\n",
      "Age            0\n",
      "Fare           0\n",
      "Sex            0\n",
      "sibsp          0\n",
      "Parch          0\n",
      "Pclass         0\n",
      "Embarked       0\n",
      "Survived       0\n",
      "dtype: int64\n"
     ]
    }
   ],
   "execution_count": 15
  },
  {
   "metadata": {},
   "cell_type": "markdown",
   "source": "📊 3. EXPLORATORY DATA ANALYSIS",
   "id": "28919e8e4dbdc21b"
  },
  {
   "metadata": {
    "ExecuteTime": {
     "end_time": "2025-06-17T17:36:19.128353Z",
     "start_time": "2025-06-17T17:36:17.221360Z"
    }
   },
   "cell_type": "code",
   "source": [
    "import seaborn as sns\n",
    "import matplotlib.pyplot as plt\n",
    "\n",
    "# Survival distribution\n",
    "sns.countplot(data=df, x=\"Survived\")\n",
    "plt.title(\"Survival Distribution\")\n",
    "plt.show()\n",
    "\n",
    "# Survival by gender\n",
    "sns.countplot(data=df, x=\"Survived\", hue=\"Sex\")\n",
    "plt.title(\"Survival by Sex\")\n",
    "plt.show()\n",
    "\n",
    "# Survival by class\n",
    "sns.countplot(data=df, x=\"Survived\", hue=\"Pclass\")\n",
    "plt.title(\"Survival by Passenger Class\")\n",
    "plt.show()\n",
    "\n"
   ],
   "id": "b52d58e3f17d1881",
   "outputs": [
    {
     "data": {
      "text/plain": [
       "<Figure size 432x288 with 1 Axes>"
      ],
      "image/png": "[encoded data removed]"
     },
     "metadata": {},
     "output_type": "display_data"
    },
    {
     "data": {
      "text/plain": [
       "<Figure size 432x288 with 1 Axes>"
      ],
      "image/png": "[encoded data removed]"
     },
     "metadata": {},
     "output_type": "display_data"
    },
    {
     "data": {
      "text/plain": [
       "<Figure size 432x288 with 1 Axes>"
      ],
      "image/png": "[encoded data removed]"
     },
     "metadata": {},
     "output_type": "display_data"
    }
   ],
   "execution_count": 16
  },
  {
   "metadata": {},
   "cell_type": "markdown",
   "source": "🧪 4. DATA PREPARATION FOR MODELING",
   "id": "15d913a6e6f65d27"
  },
  {
   "metadata": {
    "ExecuteTime": {
     "end_time": "2025-06-17T17:36:49.981246Z",
     "start_time": "2025-06-17T17:36:49.870247Z"
    }
   },
   "cell_type": "code",
   "source": [
    "from sklearn.model_selection import train_test_split\n",
    "from sklearn.preprocessing import LabelEncoder\n",
    "\n",
    "# Encode categorical features\n",
    "df[\"Sex\"] = LabelEncoder().fit_transform(df[\"Sex\"])\n",
    "df[\"Embarked\"] = LabelEncoder().fit_transform(df[\"Embarked\"])\n",
    "\n",
    "# Define features and target\n",
    "X = df.drop(columns=[\"Survived\", \"Passengerid\"])\n",
    "y = df[\"Survived\"]\n",
    "\n",
    "# Train-test split\n",
    "X_train, X_test, y_train, y_test = train_test_split(X, y, random_state=42)\n"
   ],
   "id": "d5fb88a3e79911f6",
   "outputs": [],
   "execution_count": 17
  },
  {
   "metadata": {},
   "cell_type": "markdown",
   "source": "🤖 5. MODEL TRAINING & EVALUATION",
   "id": "8ebaa69eac4cb4b6"
  },
  {
   "metadata": {
    "ExecuteTime": {
     "end_time": "2025-06-17T17:37:36.449335Z",
     "start_time": "2025-06-17T17:37:35.530350Z"
    }
   },
   "cell_type": "code",
   "source": [
    "from sklearn.linear_model import LogisticRegression\n",
    "from sklearn.ensemble import RandomForestClassifier\n",
    "from sklearn.metrics import accuracy_score, confusion_matrix, classification_report\n",
    "\n",
    "# Define models\n",
    "models = {\n",
    "    \"Logistic Regression\": LogisticRegression(max_iter=1000),\n",
    "    \"Random Forest\": RandomForestClassifier()\n",
    "}\n",
    "\n",
    "results = []\n",
    "\n",
    "for name, model in models.items():\n",
    "    print(f\"\\n--- {name} ---\")\n",
    "    model.fit(X_train, y_train)\n",
    "    preds = model.predict(X_test)\n",
    "    acc = accuracy_score(y_test, preds)\n",
    "    print(\"Accuracy:\", round(acc, 4))\n",
    "    print(\"Confusion Matrix:\\n\", confusion_matrix(y_test, preds))\n",
    "    print(\"Classification Report:\\n\", classification_report(y_test, preds))\n",
    "    results.append((name, acc))\n"
   ],
   "id": "b75dad6142de7448",
   "outputs": [
    {
     "name": "stdout",
     "output_type": "stream",
     "text": [
      "\n",
      "--- Logistic Regression ---\n",
      "Accuracy: 0.7561\n",
      "Confusion Matrix:\n",
      " [[217  17]\n",
      " [ 63  31]]\n",
      "Classification Report:\n",
      "               precision    recall  f1-score   support\n",
      "\n",
      "           0       0.78      0.93      0.84       234\n",
      "           1       0.65      0.33      0.44        94\n",
      "\n",
      "    accuracy                           0.76       328\n",
      "   macro avg       0.71      0.63      0.64       328\n",
      "weighted avg       0.74      0.76      0.73       328\n",
      "\n",
      "\n",
      "--- Random Forest ---\n",
      "Accuracy: 0.7226\n",
      "Confusion Matrix:\n",
      " [[194  40]\n",
      " [ 51  43]]\n",
      "Classification Report:\n",
      "               precision    recall  f1-score   support\n",
      "\n",
      "           0       0.79      0.83      0.81       234\n",
      "           1       0.52      0.46      0.49        94\n",
      "\n",
      "    accuracy                           0.72       328\n",
      "   macro avg       0.65      0.64      0.65       328\n",
      "weighted avg       0.71      0.72      0.72       328\n",
      "\n"
     ]
    }
   ],
   "execution_count": 18
  },
  {
   "metadata": {},
   "cell_type": "markdown",
   "source": "📈 6. MODEL COMPARISON VISUALIZATION",
   "id": "852b67ff8563f0d8"
  },
  {
   "metadata": {
    "ExecuteTime": {
     "end_time": "2025-06-17T17:38:09.705178Z",
     "start_time": "2025-06-17T17:38:09.194211Z"
    }
   },
   "cell_type": "code",
   "source": [
    "# Accuracy comparison bar chart\n",
    "names = [r[0] for r in results]\n",
    "scores = [r[1] for r in results]\n",
    "\n",
    "sns.barplot(x=scores, y=names)\n",
    "plt.xlabel(\"Accuracy\")\n",
    "plt.title(\"Model Comparison\")\n",
    "plt.xlim(0, 1)\n",
    "plt.show()\n"
   ],
   "id": "14fef3469d961f82",
   "outputs": [
    {
     "data": {
      "text/plain": [
       "<Figure size 432x288 with 1 Axes>"
      ],
      "image/png": "[encoded data removed]"
     },
     "metadata": {},
     "output_type": "display_data"
    }
   ],
   "execution_count": 19
  },
  {
   "metadata": {},
   "cell_type": "markdown",
   "source": [
    "📌 7. CONCLUSION:\n",
    "This project shows that even with minimal features, simple models like Logistic Regression and Random Forest can effectively predict survival outcomes on the Titanic dataset. With further feature engineering and hyperparameter tuning, performance could be improved.\n",
    "\n"
   ],
   "id": "8e9925b00a6f4fbf"
  }
 ],
 "metadata": {},
 "nbformat": 4,
 "nbformat_minor": 5
}
